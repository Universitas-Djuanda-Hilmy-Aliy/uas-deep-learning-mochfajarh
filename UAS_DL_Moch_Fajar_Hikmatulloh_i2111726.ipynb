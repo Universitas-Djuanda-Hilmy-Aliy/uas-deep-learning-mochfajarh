{
  "nbformat": 4,
  "nbformat_minor": 0,
  "metadata": {
    "colab": {
      "private_outputs": true,
      "provenance": []
    },
    "kernelspec": {
      "name": "python3",
      "display_name": "Python 3"
    },
    "language_info": {
      "name": "python"
    }
  },
  "cells": [
    {
      "cell_type": "markdown",
      "source": [
        "intruksi 1 <br>\n",
        "Nama : Moch Fajar Hikmatulloh <br>\n",
        "NIM : i.2111726"
      ],
      "metadata": {
        "id": "g25nFMnqOnIa"
      }
    },
    {
      "cell_type": "code",
      "execution_count": null,
      "metadata": {
        "id": "XmKdTE4zPwRQ"
      },
      "outputs": [],
      "source": [
        "#intruksi 2\n",
        "import matplotlib.pyplot as plt\n",
        "import tensorflow as tf\n",
        "from tensorflow.keras.datasets import cifar100\n",
        "import numpy as np"
      ]
    },
    {
      "cell_type": "code",
      "source": [
        "#intruksi 3\n",
        "(x_train, x_label), (y_test, y_label) = cifar100.load_data(label_mode='fine')"
      ],
      "metadata": {
        "id": "wgb-91PvV98A"
      },
      "execution_count": null,
      "outputs": []
    },
    {
      "cell_type": "markdown",
      "source": [
        "Dataset di Cifar100 berdasarkan Household Furniture\n",
        "https://huggingface.co/datasets/cifar100?row=25"
      ],
      "metadata": {
        "id": "2eiyPyCJYJet"
      }
    },
    {
      "cell_type": "code",
      "source": [
        "#intruksi 4 - household furniture\n",
        "indeks_household_furniture = {\n",
        "    \"bed\": 5,\n",
        "    \"chair\": 20,\n",
        "    \"couch\": 25,\n",
        "    \"table\": 84,\n",
        "    \"wardrobe\": 94\n",
        "}"
      ],
      "metadata": {
        "id": "pYS4OvMsWvUD"
      },
      "execution_count": null,
      "outputs": []
    },
    {
      "cell_type": "code",
      "source": [
        "#intruksi 5\n",
        "plt.figure(figsize=(15,3))\n",
        "for i, (nama_kelas,nama_indeks) in enumerate (indeks_household_furniture.items()):\n",
        "  indeks = np.where(x_label.flatten() == nama_indeks)[0][0]\n",
        "  plt.subplot(1, len(indeks_household_furniture), i + 1)\n",
        "  plt.imshow(x_train[indeks])\n",
        "  plt.title(nama_kelas)\n",
        "  plt.axis(\"off\")\n",
        "plt.show()"
      ],
      "metadata": {
        "id": "W6A_TLwnYlbe"
      },
      "execution_count": null,
      "outputs": []
    },
    {
      "cell_type": "code",
      "source": [
        "#intruksi 6\n",
        "indeks2_household_furniture = [5, 20, 25, 84, 94]\n",
        "\n",
        "x_train_baru =[]\n",
        "x_label_baru =[]\n",
        "\n",
        "for i in indeks2_household_furniture:\n",
        "  indeks = np.where(x_label == i)[0]\n",
        "  x_train_baru.append(x_train[indeks])\n",
        "  x_label_baru.append(x_label[indeks])\n",
        "\n",
        "x_train_baru = np.concatenate(x_train_baru) #tujuannya untuk menggabungkan dua atau lebih array\n",
        "x_label_baru = np.concatenate(x_label_baru)\n"
      ],
      "metadata": {
        "id": "kzND7yC-bncu"
      },
      "execution_count": null,
      "outputs": []
    },
    {
      "cell_type": "code",
      "source": [
        "x_train_baru.shape"
      ],
      "metadata": {
        "id": "db-9QNu0dGy1"
      },
      "execution_count": null,
      "outputs": []
    },
    {
      "cell_type": "code",
      "source": [
        "x_label_baru.shape"
      ],
      "metadata": {
        "id": "jQoAFJR6dLd4"
      },
      "execution_count": null,
      "outputs": []
    },
    {
      "cell_type": "code",
      "source": [
        "#intruksi 6\n",
        "indeks2_household_furniture = [5, 20, 25, 84, 94]\n",
        "\n",
        "y_test_baru =[]\n",
        "y_label_baru =[]\n",
        "\n",
        "for i in indeks2_household_furniture:\n",
        "  indeks = np.where(y_label == i)[0]\n",
        "  y_test_baru.append(y_test[indeks])\n",
        "  y_label_baru.append(y_label[indeks])\n",
        "\n",
        "y_test_baru = np.concatenate(y_test_baru) #tujuannya untuk menggabungkan dua atau lebih array\n",
        "y_label_baru = np.concatenate(y_label_baru)"
      ],
      "metadata": {
        "id": "MODEmyJid6_P"
      },
      "execution_count": null,
      "outputs": []
    },
    {
      "cell_type": "code",
      "source": [
        "y_test_baru.shape"
      ],
      "metadata": {
        "id": "ijAuuRMBetZy"
      },
      "execution_count": null,
      "outputs": []
    },
    {
      "cell_type": "code",
      "source": [
        "y_label_baru.shape"
      ],
      "metadata": {
        "id": "Ldn2Mb7de0pW"
      },
      "execution_count": null,
      "outputs": []
    },
    {
      "cell_type": "code",
      "source": [
        "#intruksi 7\n",
        "x_train_normalized = x_train / 255.0\n",
        "y_test_normalized = y_test / 255.0"
      ],
      "metadata": {
        "id": "w3c8UmfCWpVB"
      },
      "execution_count": null,
      "outputs": []
    },
    {
      "cell_type": "code",
      "source": [
        "#intruksi 8\n",
        "import tensorflow as tf\n",
        "from tensorflow.keras import datasets, layers, models\n",
        "import matplotlib.pyplot as plt\n",
        "\n",
        "model_cnn = models.Sequential()\n",
        "model_cnn.add(layers.Conv2D(32,(4,4), activation = 'relu', input_shape= (28,28,1)))\n",
        "model_cnn.add(layers.MaxPooling2D((1,1)))\n",
        "model_cnn.add(layers.Conv2D(64,(4,4), activation = 'relu'))\n",
        "model_cnn.add(layers.MaxPooling2D((1,1)))\n",
        "model_cnn.add(layers.Conv2D(64,(3,3), activation = 'relu'))\n",
        "model_cnn.add(layers.MaxPooling2D((1,1)))\n",
        "model_cnn.add(layers.Conv2D(128,(4,4), activation = 'relu'))\n",
        "model_cnn.add(layers.MaxPooling2D((1,1)))\n",
        "\n",
        "\n",
        "model_cnn.add(layers.Flatten())\n",
        "model_cnn.add(layers.Dense(64,activation='relu'))\n",
        "model_cnn.add(layers.Dense(10))"
      ],
      "metadata": {
        "id": "WJnEdce9cJNY"
      },
      "execution_count": null,
      "outputs": []
    },
    {
      "cell_type": "code",
      "source": [
        "#intruksi 9\n",
        "import tensorflow as tf\n",
        "from tensorflow.keras.models import Sequential\n",
        "from tensorflow.keras.layers import Conv2D, MaxPooling2D, Flatten, Dense\n",
        "from tensorflow.keras.utils import to_categorical\n",
        "\n",
        "model_rcnn = Sequential([\n",
        "    Conv2D(32, (3,3), padding =\"same\", activation='relu', input_shape=x_train.shape[1: ]),\n",
        "    Conv2D(32, (3,3), activation='relu'),\n",
        "    MaxPooling2D(pool_size=(2,2)),\n",
        "    Conv2D(64, (3,3), padding =\"same\", activation='relu'),\n",
        "    Conv2D(64, (3,3), activation='relu'),\n",
        "    MaxPooling2D(pool_size=(2,2)),\n",
        "    Flatten(),\n",
        "    Dense(512, activation='relu'),\n",
        "    Dense(10, activation='softmax')\n",
        "])"
      ],
      "metadata": {
        "id": "r5jvT6JTclt7"
      },
      "execution_count": null,
      "outputs": []
    },
    {
      "cell_type": "markdown",
      "source": [
        "Intruksi 10 <br>\n",
        "layer pada CNN (Convolutional Neural Network): <br>\n",
        "1. Layer/lapisan dibuat 1 demi 1 <br>\n",
        "2. Mengolah data gambar dengan jumlah filter sebesar 32, setiap filter 3x3 piksel <br>\n",
        "3. Mengurangi dimensi spasial dari gambar, (2,2) mengurangi ukuran gambar menjadi setengahnya <br>\n",
        "4. Mengubah peta fitur 2 dimensi menjadi 1 dimensi <br>\n",
        "5. Menambah lapisan menjadi 64 jaringan <br>\n",
        "6. Mengubah lapisan menjadi 10 digit <br>\n",
        "<br>\n",
        "layer pada RCNN (Region-based Convolutional Neural Network): <br>\n",
        "a. Conv2D: Lapisan konvolusi dengan 32 filter dan kernel (3, 3), menggunakan aktivasi ReLU. <br>\n",
        "b. MaxPooling2D: Lapisan max pooling dengan ukuran pool (3, 3). <br>\n",
        "c. Flatten: Lapisan flatten untuk mengubah output 2D menjadi vektor 1D. <br>\n",
        "d. Dense: Lapisan fully connected dengan 512 neuron, menggunakan aktivasi ReLU. <br>\n",
        "e. Dense: Lapisan output dengan 10 neuron (asumsi 10 kelas pada CIFAR-100), menggunakan aktivasi softmax.\n"
      ],
      "metadata": {
        "id": "qTddhuYFfhsn"
      }
    },
    {
      "cell_type": "code",
      "source": [
        "#intruksi 11\n",
        "model_cnn.compile(optimizer=tf.keras.optimizers.Adam(learning_rate=0.01),\n",
        "                  loss='sparse_categorical_crossentropy',\n",
        "                  metrics=['accuracy'])\n",
        "\n",
        "hasil_model=model_cnn.fit(x_train_normalized, x_label, epochs=10, batch_size=256)"
      ],
      "metadata": {
        "id": "CctTGFCpilSn"
      },
      "execution_count": null,
      "outputs": []
    },
    {
      "cell_type": "code",
      "source": [
        "#intruksi 12\n",
        "model_rcnn.compile(optimizer=tf.keras.optimizers.Adam(learning_rate=0.01),\n",
        "                   loss='sparse_categorical_crossentropy',\n",
        "                   metrics=['accuracy'])\n",
        "\n",
        "model_rcnn.fit(x_train_normalized, x_label, epochs=10, batch_size=256)"
      ],
      "metadata": {
        "id": "6Zv02fjYn0Bl"
      },
      "execution_count": null,
      "outputs": []
    }
  ]
}